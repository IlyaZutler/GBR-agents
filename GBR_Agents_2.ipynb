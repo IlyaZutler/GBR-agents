{
  "nbformat": 4,
  "nbformat_minor": 0,
  "metadata": {
    "colab": {
      "provenance": [],
      "authorship_tag": "ABX9TyPJ/YDnrG9BE2PAE3DVDMCE",
      "include_colab_link": true
    },
    "kernelspec": {
      "name": "python3",
      "display_name": "Python 3"
    },
    "language_info": {
      "name": "python"
    }
  },
  "cells": [
    {
      "cell_type": "markdown",
      "metadata": {
        "id": "view-in-github",
        "colab_type": "text"
      },
      "source": [
        "<a href=\"https://colab.research.google.com/github/IlyaZutler/GBR-agents/blob/main/GBR_Agents_2.ipynb\" target=\"_parent\"><img src=\"https://colab.research.google.com/assets/colab-badge.svg\" alt=\"Open In Colab\"/></a>"
      ]
    },
    {
      "cell_type": "code",
      "source": [
        "import numpy as np\n",
        "import matplotlib.pyplot as plt\n",
        "!pip install simpy\n",
        "import simpy\n",
        "import random\n",
        "\n"
      ],
      "metadata": {
        "colab": {
          "base_uri": "https://localhost:8080/"
        },
        "id": "8aGNo5YmNIjw",
        "outputId": "d8f53c6e-27b3-4c22-c5a3-4f031940bb1b"
      },
      "execution_count": 11,
      "outputs": [
        {
          "output_type": "stream",
          "name": "stdout",
          "text": [
            "Requirement already satisfied: simpy in /usr/local/lib/python3.10/dist-packages (4.1.1)\n"
          ]
        }
      ]
    },
    {
      "cell_type": "code",
      "source": [
        "np.log(20), np.random.lognormal(3, 0.5)"
      ],
      "metadata": {
        "colab": {
          "base_uri": "https://localhost:8080/"
        },
        "id": "9e9RSUxYRR3x",
        "outputId": "ff6bf60d-6424-4a03-dfab-45849ed83209"
      },
      "execution_count": 26,
      "outputs": [
        {
          "output_type": "execute_result",
          "data": {
            "text/plain": [
              "(2.995732273553991, 29.32014963064012)"
            ]
          },
          "metadata": {},
          "execution_count": 26
        }
      ]
    },
    {
      "cell_type": "code",
      "source": [
        "class Agent:\n",
        "    def __init__(self, env, location, speed):\n",
        "        self.env = env  # Ссылка на объект окружения симуляции\n",
        "        self.location = location\n",
        "        self.speed = speed\n",
        "        self.state = 'free'\n",
        "        self.alarm = None\n",
        "        self.busy_start_time = 0  # Время начала занятости\n",
        "        self.busy_time = 0  # Общее время в состоянии 'busy'\n",
        "        self.alarms_handled = 0  # Счетчик обработанных тревог\n",
        "\n",
        "    def travel_time(self, target):\n",
        "        return abs(self.location - target) / self.speed\n",
        "\n",
        "    def handle_alarm(self, alarm):\n",
        "        self.state = 'busy'\n",
        "        self.alarm = alarm\n",
        "\n",
        "        self.busy_start_time = self.env.now  # Запоминаем время начала занятости\n",
        "        self.alarms_handled += 1  # Увеличиваем счетчик обработанных тревог\n",
        "        #print(f\"Agent {id(self)} starting to handle alarm at location {alarm.location} with complexity {alarm.complexity} at time {self.env.now}\")\n",
        "\n",
        "        # Время на дорогу до тревоги\n",
        "        travel_to_alarm = self.travel_time(alarm.location)\n",
        "        yield self.env.timeout(travel_to_alarm)\n",
        "\n",
        "        # Время на обработку тревоги\n",
        "        #print(f\"Agent {id(self)} arrived at alarm at time {self.env.now}\")\n",
        "        yield self.env.timeout(alarm.complexity)\n",
        "\n",
        "        # Время на возвращение к месту дислокации\n",
        "        return_travel_time = self.travel_time(self.location)\n",
        "        yield self.env.timeout(return_travel_time)\n",
        "\n",
        "        self.location = self.location  # Возвращаемся к исходной дислокации\n",
        "        # Агенты остаются занятыми до завершения обработки тревоги и возврата к месту дислокации\n",
        "        #self.busy_time += (self.env.now - self.busy_start_time)  # Обновляем общее время занятости\n",
        "\n",
        "        self.busy_time += (travel_to_alarm * 2 + alarm.complexity)\n",
        "        self.state = 'free'  # Возвращаем агента в состояние 'free'\n",
        "        self.alarm = None\n",
        "        #print(f\"Agent {id(self)} finished handling alarm at time {self.env.now}\")\n",
        "\n",
        "class Alarm:\n",
        "    def __init__(self, location, complexity):\n",
        "        self.location = location\n",
        "        self.complexity = complexity\n",
        "        self.arrival_time = None\n",
        "\n",
        "class Simulation:\n",
        "    def __init__(self, num_agents, segment_length, agent_speed, alarm_rate, complexity_mean, complexity_sigma, threshold, simulation_duration):\n",
        "        self.env = simpy.Environment()\n",
        "        # Равномерное распределение агентов вдоль отрезка\n",
        "        self.agents = [Agent(self.env, segment_length / num_agents / 2 + i * segment_length / num_agents, agent_speed) for i in range(num_agents)]\n",
        "\n",
        "        self.segment_length = segment_length\n",
        "        self.alarm_rate = alarm_rate\n",
        "        self.complexity_mean = complexity_mean\n",
        "        self.complexity_sigma = complexity_sigma\n",
        "        self.threshold = threshold\n",
        "        self.simulation_duration = simulation_duration\n",
        "        self.alarms = []\n",
        "        self.total_alarms = 0\n",
        "        self.total_response_time = 0\n",
        "        self.delayed_alarms = 0\n",
        "\n",
        "    def generate_alarms(self):\n",
        "        while True:\n",
        "            yield self.env.timeout(random.expovariate(self.alarm_rate))\n",
        "            location = random.uniform(0, self.segment_length)\n",
        "            complexity = np.random.lognormal(self.complexity_mean, self.complexity_sigma)\n",
        "            alarm = Alarm(location, complexity)\n",
        "            self.alarms.append(alarm)\n",
        "            self.total_alarms += 1\n",
        "            #print(f\"Generated alarm at location {location} with complexity {complexity} at time {self.env.now}\")\n",
        "            self.env.process(self.dispatch_agent(alarm))\n",
        "\n",
        "    def dispatch_agent(self, alarm):\n",
        "        available_agents = [agent for agent in self.agents if agent.state == 'free']\n",
        "        if available_agents:\n",
        "            closest_agent = min(available_agents, key=lambda agent: agent.travel_time(alarm.location))\n",
        "            closest_agent.start_time = self.env.now\n",
        "            self.total_response_time += closest_agent.travel_time(alarm.location)\n",
        "            if closest_agent.travel_time(alarm.location) > self.threshold:\n",
        "                self.delayed_alarms += 1\n",
        "            yield self.env.process(closest_agent.handle_alarm(alarm))\n",
        "        else:\n",
        "            #print(f\"No available agents for alarm at location {alarm.location} at time {self.env.now}\")\n",
        "            yield self.env.timeout(0)  # Ничего не делаем, если нет свободных агентов\n",
        "\n",
        "    def run(self):\n",
        "        self.env.process(self.generate_alarms())\n",
        "        self.env.run(until=self.simulation_duration)\n",
        "\n",
        "    def report(self):\n",
        "        print(f\"Simulation Duration: {self.simulation_duration}\")\n",
        "        print(f\"Total Alarms: {self.total_alarms}\")\n",
        "\n",
        "        print(f\"Среднее время на тревоге: {np.exp(complexity_mean + 0.5 * complexity_sigma**2)}\")\n",
        "        print(f\"Стандартное отклонение времени на тревоге: {( (np.exp(complexity_sigma**2) - 1) * np.exp(2 * complexity_mean + complexity_sigma**2))**0.5 }\")\n",
        "\n",
        "        print(f\"Average Response Time: {self.total_response_time / self.total_alarms if self.total_alarms else 0}\")\n",
        "        print(f\"Fraction of Delayed Alarms: {self.delayed_alarms / self.total_alarms if self.total_alarms else 0}\")\n",
        "        for i, agent in enumerate(self.agents):\n",
        "            busy_time_fraction = agent.busy_time / self.simulation_duration\n",
        "            print(f\"Agent {i} Busy Time Fraction: {busy_time_fraction}\")\n",
        "            print(f\"Agent {i} Alarms Handled: {agent.alarms_handled}\")\n",
        "\n",
        "def visualize(simulation, interval=1):\n",
        "    fig, ax = plt.subplots(figsize=(10, 1))\n",
        "    ax.set_xlim(0, simulation.segment_length)\n",
        "    ax.set_ylim(-1, 1)\n",
        "\n",
        "    while simulation.env.peek() < float('inf'):\n",
        "        ax.clear()\n",
        "        ax.set_xlim(0, simulation.segment_length)\n",
        "        ax.set_ylim(-1, 1)\n",
        "\n",
        "        for agent in simulation.agents:\n",
        "            if agent.state == 'free':\n",
        "                ax.plot(agent.location, 0, 'bo')\n",
        "            elif agent.state == 'busy':\n",
        "                if agent.alarm is not None:\n",
        "                    ax.plot(agent.alarm.location, 0, 'mo')\n",
        "                ax.plot(agent.location, 0, 'go')\n",
        "\n",
        "        for alarm in simulation.alarms:\n",
        "            if alarm.arrival_time is None:\n",
        "                ax.plot(alarm.location, 0, 'ro')\n",
        "\n",
        "        plt.pause(interval)\n",
        "        simulation.env.step()\n",
        "\n",
        "    plt.show()\n",
        "\n",
        "# Параметры моделирования\n",
        "days = 1000\n",
        "num_agents = 5\n",
        "segment_length = 80   # протяженность в километрах\n",
        "agent_speed = 30/60  # Cкорость 30 км за 60 мин\n",
        "alarm_rate = 50/(24*60)  # 50 в день\n",
        "complexity_mean = np.log(12)  # Cложность 20 мин - подбирается\n",
        "complexity_sigma = 1 # подбирается\n",
        "threshold = 15\n",
        "simulation_duration = 24*60*days  # Задаем время моделирования в минутах (24 часа)\n",
        "\n",
        "# Создание и запуск симуляции\n",
        "sim = Simulation(num_agents, segment_length, agent_speed, alarm_rate, complexity_mean, complexity_sigma, threshold, simulation_duration)\n",
        "sim.run()\n",
        "\n",
        "# Отчёт о результатах\n",
        "sim.report()\n",
        "\n",
        "# Визуализация процесса\n",
        "#visualize(sim, interval=0.1)"
      ],
      "metadata": {
        "colab": {
          "base_uri": "https://localhost:8080/"
        },
        "id": "5UwSWWCEPk5B",
        "outputId": "90368174-3a0e-4f66-f2b7-d82fda8d2649"
      },
      "execution_count": 83,
      "outputs": [
        {
          "output_type": "stream",
          "name": "stdout",
          "text": [
            "Simulation Duration: 1440000\n",
            "Total Alarms: 49785\n",
            "Среднее время на тревоге: 19.78465524840154\n",
            "Стандартное отклонение времени на тревоге: 25.934368990741053\n",
            "Average Response Time: 14.8730086795012\n",
            "Fraction of Delayed Alarms: 0.2777543436778146\n",
            "Agent 0 Busy Time Fraction: 0.29974117095951053\n",
            "Agent 0 Alarms Handled: 9266\n",
            "Agent 1 Busy Time Fraction: 0.3646090915514948\n",
            "Agent 1 Alarms Handled: 10255\n",
            "Agent 2 Busy Time Fraction: 0.3767968150214439\n",
            "Agent 2 Alarms Handled: 10373\n",
            "Agent 3 Busy Time Fraction: 0.36266343909703963\n",
            "Agent 3 Alarms Handled: 10154\n",
            "Agent 4 Busy Time Fraction: 0.3007264823699026\n",
            "Agent 4 Alarms Handled: 9213\n"
          ]
        }
      ]
    },
    {
      "cell_type": "code",
      "source": [
        "import simpy\n",
        "\n",
        "def car(env):\n",
        "    while True:\n",
        "        print(f\"Start parking at {env.now}\")\n",
        "        parking_duration = 5\n",
        "        yield env.timeout(parking_duration)\n",
        "\n",
        "        print(f\"Start driving at {env.now}\")\n",
        "        trip_duration = 2\n",
        "        yield env.timeout(trip_duration)\n",
        "\n",
        "env = simpy.Environment()\n",
        "env.process(car(env))\n",
        "env.run(until=15)\n"
      ],
      "metadata": {
        "colab": {
          "base_uri": "https://localhost:8080/"
        },
        "id": "Hx9yf7Ajvzzo",
        "outputId": "3df5295a-5bf6-4066-8041-a11ee954e389"
      },
      "execution_count": 79,
      "outputs": [
        {
          "output_type": "stream",
          "name": "stdout",
          "text": [
            "Start parking at 0\n",
            "Start driving at 5\n",
            "Start parking at 7\n",
            "Start driving at 12\n",
            "Start parking at 14\n"
          ]
        }
      ]
    }
  ]
}