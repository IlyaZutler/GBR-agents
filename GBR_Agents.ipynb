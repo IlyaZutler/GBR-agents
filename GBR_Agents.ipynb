{
  "nbformat": 4,
  "nbformat_minor": 0,
  "metadata": {
    "colab": {
      "provenance": [],
      "authorship_tag": "ABX9TyP+UQXSryAk384mLLq0Cl1g",
      "include_colab_link": true
    },
    "kernelspec": {
      "name": "python3",
      "display_name": "Python 3"
    },
    "language_info": {
      "name": "python"
    }
  },
  "cells": [
    {
      "cell_type": "markdown",
      "metadata": {
        "id": "view-in-github",
        "colab_type": "text"
      },
      "source": [
        "<a href=\"https://colab.research.google.com/github/IlyaZutler/GBR-agents/blob/main/GBR_Agents.ipynb\" target=\"_parent\"><img src=\"https://colab.research.google.com/assets/colab-badge.svg\" alt=\"Open In Colab\"/></a>"
      ]
    },
    {
      "cell_type": "code",
      "execution_count": 2,
      "metadata": {
        "colab": {
          "base_uri": "https://localhost:8080/"
        },
        "id": "hn6jawUm1pKF",
        "outputId": "7a90299e-8587-4663-c29d-e4022e17cf1f"
      },
      "outputs": [
        {
          "output_type": "stream",
          "name": "stdout",
          "text": [
            "Collecting simpy\n",
            "  Downloading simpy-4.1.1-py3-none-any.whl (27 kB)\n",
            "Installing collected packages: simpy\n",
            "Successfully installed simpy-4.1.1\n"
          ]
        }
      ],
      "source": [
        "import numpy as np\n",
        "import matplotlib.pyplot as plt\n",
        "!pip install simpy\n",
        "import simpy\n",
        "import random\n",
        "import time\n"
      ]
    },
    {
      "cell_type": "code",
      "source": [
        "class Agent:\n",
        "    def __init__(self, env, location, speed):\n",
        "        self.env = env # Ссылка на объект окружения симуляции\n",
        "        self.location = location\n",
        "        self.speed = speed\n",
        "        self.state = 'free'\n",
        "        self.alarm = None\n",
        "        self.start_time = None\n",
        "        self.busy_time = 0\n",
        "\n",
        "    def travel_time(self, target):\n",
        "        return abs(self.location - target) / self.speed\n",
        "\n",
        "    def handle_alarm(self, alarm):\n",
        "        self.state = 'busy'\n",
        "        self.alarm = alarm\n",
        "        self.start_time = self.env.now\n",
        "\n",
        "        # Время на дорогу до тревоги\n",
        "        travel_to_alarm = self.travel_time(alarm.location)\n",
        "        yield self.env.timeout(travel_to_alarm)\n",
        "\n",
        "        # Время на обработку тревоги\n",
        "        alarm.arrival_time = self.env.now\n",
        "        yield self.env.timeout(alarm.complexity)\n",
        "\n",
        "        # Агенты остаются занятыми до завершения обработки тревоги\n",
        "        self.busy_time += self.env.now - self.start_time\n",
        "        self.state = 'free'\n",
        "        self.alarm = None\n",
        "\n",
        "        # Время на возвращение к месту дислокации\n",
        "        yield self.env.timeout(travel_to_alarm)\n",
        "\n",
        "class Alarm:\n",
        "    def __init__(self, location, complexity):\n",
        "        self.location = location\n",
        "        self.complexity = complexity\n",
        "        self.arrival_time = None\n"
      ],
      "metadata": {
        "id": "herRBlvD2APd"
      },
      "execution_count": 10,
      "outputs": []
    },
    {
      "cell_type": "code",
      "source": [
        "class Simulation:\n",
        "    def __init__(self, num_agents, segment_length, agent_speed, alarm_rate, complexity_mean, complexity_sigma, threshold):\n",
        "        self.env = simpy.Environment()\n",
        "        # Равномерное распределение агентов вдоль отрезка\n",
        "        self.agents = [Agent(self.env, i * segment_length / (num_agents - 1), agent_speed) for i in range(num_agents)]\n",
        "\n",
        "        self.segment_length = segment_length\n",
        "        self.alarm_rate = alarm_rate\n",
        "        self.complexity_mean = complexity_mean\n",
        "        self.complexity_sigma = complexity_sigma\n",
        "        self.threshold = threshold\n",
        "        self.alarms = []\n",
        "        self.total_alarms = 0\n",
        "        self.total_response_time = 0\n",
        "        self.delayed_alarms = 0\n",
        "\n",
        "    def generate_alarms(self):\n",
        "        while True:\n",
        "            yield self.env.timeout(random.expovariate(self.alarm_rate))\n",
        "            location = random.uniform(0, self.segment_length)\n",
        "            complexity = np.random.lognormal(self.complexity_mean, self.complexity_sigma)\n",
        "            alarm = Alarm(location, complexity)\n",
        "            self.alarms.append(alarm)\n",
        "            self.total_alarms += 1\n",
        "            self.env.process(self.dispatch_agent(alarm))\n",
        "\n",
        "    # def dispatch_agent(self, alarm):\n",
        "    #     available_agents = [agent for agent in self.agents if agent.state == 'free']\n",
        "    #     if available_agents:\n",
        "    #         closest_agent = min(available_agents, key=lambda agent: agent.travel_time(alarm.location))\n",
        "    #         closest_agent.start_time = self.env.now\n",
        "    #         self.total_response_time += closest_agent.travel_time(alarm.location)\n",
        "    #         if closest_agent.travel_time(alarm.location) > self.threshold:\n",
        "    #             self.delayed_alarms += 1\n",
        "    #         self.env.process(closest_agent.handle_alarm(alarm))\n",
        "\n",
        "    def dispatch_agent(self, alarm):\n",
        "        available_agents = [agent for agent in self.agents if agent.state == 'free']\n",
        "        if available_agents:\n",
        "            closest_agent = min(available_agents, key=lambda agent: agent.travel_time(alarm.location))\n",
        "            closest_agent.start_time = self.env.now\n",
        "            self.total_response_time += closest_agent.travel_time(alarm.location)\n",
        "            if closest_agent.travel_time(alarm.location) > self.threshold:\n",
        "                self.delayed_alarms += 1\n",
        "            yield self.env.process(closest_agent.handle_alarm(alarm)) # Yield the process here\n",
        "\n",
        "\n",
        "    def run(self, duration):\n",
        "        self.env.process(self.generate_alarms())\n",
        "        self.env.run(until=duration)\n",
        "\n",
        "    def report(self):\n",
        "        print(f\"Total Alarms: {self.total_alarms}\")\n",
        "        print(f\"Average Response Time: {self.total_response_time / self.total_alarms if self.total_alarms else 0}\")\n",
        "        print(f\"Fraction of Delayed Alarms: {self.delayed_alarms / self.total_alarms if self.total_alarms else 0}\")\n",
        "        for i, agent in enumerate(self.agents):\n",
        "            print(f\"Agent {i} Busy Time Fraction: {agent.busy_time / self.env.now if self.env.now else 0}\")\n"
      ],
      "metadata": {
        "id": "-DXI0ION2NTl"
      },
      "execution_count": 11,
      "outputs": []
    },
    {
      "cell_type": "code",
      "source": [
        "def visualize(simulation, interval=1):\n",
        "    fig, ax = plt.subplots(figsize=(10, 1))\n",
        "    ax.set_xlim(0, simulation.segment_length)\n",
        "    ax.set_ylim(-1, 1)\n",
        "\n",
        "    while simulation.env.peek() < float('inf'):\n",
        "        ax.clear()\n",
        "        ax.set_xlim(0, simulation.segment_length)\n",
        "        ax.set_ylim(-1, 1)\n",
        "\n",
        "        for agent in simulation.agents:\n",
        "            if agent.state == 'free':\n",
        "                ax.plot(agent.location, 0, 'bo')\n",
        "            elif agent.state == 'busy':\n",
        "                ax.plot(agent.location, 0, 'go')\n",
        "\n",
        "        for alarm in simulation.alarms:\n",
        "            if alarm.arrival_time is None:\n",
        "                ax.plot(alarm.location, 0, 'ro')\n",
        "            else:\n",
        "                ax.plot(alarm.location, 0, 'mo')\n",
        "\n",
        "        plt.pause(interval)\n",
        "        simulation.env.step()\n",
        "\n",
        "    plt.show()\n",
        "\n",
        "# Параметры моделирования\n",
        "num_agents = 5\n",
        "segment_length = 100\n",
        "agent_speed = 0.1\n",
        "alarm_rate = 0.1\n",
        "complexity_mean = 1\n",
        "complexity_sigma = 0.5\n",
        "threshold = 10\n",
        "\n",
        "# Создание и запуск симуляции\n",
        "sim = Simulation(num_agents, segment_length, agent_speed, alarm_rate, complexity_mean, complexity_sigma, threshold)\n",
        "sim.run(duration=100)\n",
        "\n",
        "# Отчёт о результатах\n",
        "sim.report()\n",
        "\n",
        "# Визуализация процесса\n",
        "visualize(sim, interval=0.1)\n"
      ],
      "metadata": {
        "colab": {
          "base_uri": "https://localhost:8080/",
          "height": 611
        },
        "id": "K_9XhPsb24AT",
        "outputId": "f0f19f14-5526-4c70-8097-94427be88738"
      },
      "execution_count": 12,
      "outputs": [
        {
          "output_type": "stream",
          "name": "stdout",
          "text": [
            "Total Alarms: 5\n",
            "Average Response Time: 310.3055082638302\n",
            "Fraction of Delayed Alarms: 1.0\n",
            "Agent 0 Busy Time Fraction: 0.0\n",
            "Agent 1 Busy Time Fraction: 0.0\n",
            "Agent 2 Busy Time Fraction: 0.0\n",
            "Agent 3 Busy Time Fraction: 0.0\n",
            "Agent 4 Busy Time Fraction: 0.0\n"
          ]
        },
        {
          "output_type": "display_data",
          "data": {
            "text/plain": [
              "<Figure size 1000x100 with 1 Axes>"
            ],
            "image/png": "[encoded data removed]"
          },
          "metadata": {}
        },
        {
          "output_type": "error",
          "ename": "KeyboardInterrupt",
          "evalue": "",
          "traceback": [
            "\u001b[0;31m---------------------------------------------------------------------------\u001b[0m",
            "\u001b[0;31mKeyboardInterrupt\u001b[0m                         Traceback (most recent call last)",
            "\u001b[0;32m<ipython-input-12-30a239535d06>\u001b[0m in \u001b[0;36m<cell line: 45>\u001b[0;34m()\u001b[0m\n\u001b[1;32m     43\u001b[0m \u001b[0;34m\u001b[0m\u001b[0m\n\u001b[1;32m     44\u001b[0m \u001b[0;31m# Визуализация процесса\u001b[0m\u001b[0;34m\u001b[0m\u001b[0;34m\u001b[0m\u001b[0m\n\u001b[0;32m---> 45\u001b[0;31m \u001b[0mvisualize\u001b[0m\u001b[0;34m(\u001b[0m\u001b[0msim\u001b[0m\u001b[0;34m,\u001b[0m \u001b[0minterval\u001b[0m\u001b[0;34m=\u001b[0m\u001b[0;36m0.1\u001b[0m\u001b[0;34m)\u001b[0m\u001b[0;34m\u001b[0m\u001b[0;34m\u001b[0m\u001b[0m\n\u001b[0m",
            "\u001b[0;32m<ipython-input-12-30a239535d06>\u001b[0m in \u001b[0;36mvisualize\u001b[0;34m(simulation, interval)\u001b[0m\n\u001b[1;32m     21\u001b[0m                 \u001b[0max\u001b[0m\u001b[0;34m.\u001b[0m\u001b[0mplot\u001b[0m\u001b[0;34m(\u001b[0m\u001b[0malarm\u001b[0m\u001b[0;34m.\u001b[0m\u001b[0mlocation\u001b[0m\u001b[0;34m,\u001b[0m \u001b[0;36m0\u001b[0m\u001b[0;34m,\u001b[0m \u001b[0;34m'mo'\u001b[0m\u001b[0;34m)\u001b[0m\u001b[0;34m\u001b[0m\u001b[0;34m\u001b[0m\u001b[0m\n\u001b[1;32m     22\u001b[0m \u001b[0;34m\u001b[0m\u001b[0m\n\u001b[0;32m---> 23\u001b[0;31m         \u001b[0mplt\u001b[0m\u001b[0;34m.\u001b[0m\u001b[0mpause\u001b[0m\u001b[0;34m(\u001b[0m\u001b[0minterval\u001b[0m\u001b[0;34m)\u001b[0m\u001b[0;34m\u001b[0m\u001b[0;34m\u001b[0m\u001b[0m\n\u001b[0m\u001b[1;32m     24\u001b[0m         \u001b[0msimulation\u001b[0m\u001b[0;34m.\u001b[0m\u001b[0menv\u001b[0m\u001b[0;34m.\u001b[0m\u001b[0mstep\u001b[0m\u001b[0;34m(\u001b[0m\u001b[0;34m)\u001b[0m\u001b[0;34m\u001b[0m\u001b[0;34m\u001b[0m\u001b[0m\n\u001b[1;32m     25\u001b[0m \u001b[0;34m\u001b[0m\u001b[0m\n",
            "\u001b[0;32m/usr/local/lib/python3.10/dist-packages/matplotlib/pyplot.py\u001b[0m in \u001b[0;36mpause\u001b[0;34m(interval)\u001b[0m\n\u001b[1;32m    582\u001b[0m         \u001b[0mcanvas\u001b[0m\u001b[0;34m.\u001b[0m\u001b[0mstart_event_loop\u001b[0m\u001b[0;34m(\u001b[0m\u001b[0minterval\u001b[0m\u001b[0;34m)\u001b[0m\u001b[0;34m\u001b[0m\u001b[0;34m\u001b[0m\u001b[0m\n\u001b[1;32m    583\u001b[0m     \u001b[0;32melse\u001b[0m\u001b[0;34m:\u001b[0m\u001b[0;34m\u001b[0m\u001b[0;34m\u001b[0m\u001b[0m\n\u001b[0;32m--> 584\u001b[0;31m         \u001b[0mtime\u001b[0m\u001b[0;34m.\u001b[0m\u001b[0msleep\u001b[0m\u001b[0;34m(\u001b[0m\u001b[0minterval\u001b[0m\u001b[0;34m)\u001b[0m\u001b[0;34m\u001b[0m\u001b[0;34m\u001b[0m\u001b[0m\n\u001b[0m\u001b[1;32m    585\u001b[0m \u001b[0;34m\u001b[0m\u001b[0m\n\u001b[1;32m    586\u001b[0m \u001b[0;34m\u001b[0m\u001b[0m\n",
            "\u001b[0;31mKeyboardInterrupt\u001b[0m: "
          ]
        }
      ]
    }
  ]
}