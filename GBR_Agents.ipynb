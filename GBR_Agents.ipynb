{
  "nbformat": 4,
  "nbformat_minor": 0,
  "metadata": {
    "colab": {
      "provenance": [],
      "authorship_tag": "ABX9TyOf06JbCQ0Z94TSjbvXQ0aq",
      "include_colab_link": true
    },
    "kernelspec": {
      "name": "python3",
      "display_name": "Python 3"
    },
    "language_info": {
      "name": "python"
    }
  },
  "cells": [
    {
      "cell_type": "markdown",
      "metadata": {
        "id": "view-in-github",
        "colab_type": "text"
      },
      "source": [
        "<a href=\"https://colab.research.google.com/github/IlyaZutler/GBR-agents/blob/main/GBR_Agents.ipynb\" target=\"_parent\"><img src=\"https://colab.research.google.com/assets/colab-badge.svg\" alt=\"Open In Colab\"/></a>"
      ]
    },
    {
      "cell_type": "code",
      "execution_count": 17,
      "metadata": {
        "colab": {
          "base_uri": "https://localhost:8080/"
        },
        "id": "hn6jawUm1pKF",
        "outputId": "1b161898-6fa3-4608-eb38-f1c16c19eb9b"
      },
      "outputs": [
        {
          "output_type": "stream",
          "name": "stdout",
          "text": [
            "Requirement already satisfied: simpy in /usr/local/lib/python3.10/dist-packages (4.1.1)\n"
          ]
        }
      ],
      "source": [
        "import numpy as np\n",
        "import matplotlib.pyplot as plt\n",
        "!pip install simpy\n",
        "import simpy\n",
        "import random\n",
        "import time\n"
      ]
    },
    {
      "cell_type": "code",
      "source": [
        "class Agent:\n",
        "    def __init__(self, env, location, speed):\n",
        "        self.env = env  # Ссылка на объект окружения симуляции\n",
        "        self.location = location\n",
        "        self.speed = speed\n",
        "        self.state = 'free'\n",
        "        self.alarm = None\n",
        "        self.start_time = None\n",
        "        self.busy_time = 0\n",
        "\n",
        "    def travel_time(self, target):\n",
        "        return abs(self.location - target) / self.speed\n",
        "\n",
        "    def handle_alarm(self, alarm):\n",
        "        self.state = 'busy'\n",
        "        self.alarm = alarm\n",
        "        self.start_time = self.env.now\n",
        "\n",
        "        # Время на дорогу до тревоги\n",
        "        travel_to_alarm = self.travel_time(alarm.location)\n",
        "        yield self.env.timeout(travel_to_alarm)\n",
        "\n",
        "        # Время на обработку тревоги\n",
        "        alarm.arrival_time = self.env.now\n",
        "        yield self.env.timeout(alarm.complexity)\n",
        "\n",
        "        # Агенты остаются занятыми до завершения обработки тревоги\n",
        "        self.busy_time += self.env.now - self.start_time\n",
        "        self.state = 'free'\n",
        "        self.alarm = None\n",
        "\n",
        "        # Время на возвращение к месту дислокации\n",
        "        yield self.env.timeout(travel_to_alarm)\n",
        "\n",
        "class Alarm:\n",
        "    def __init__(self, location, complexity):\n",
        "        self.location = location\n",
        "        self.complexity = complexity\n",
        "        self.arrival_time = None\n",
        "\n",
        "class Simulation:\n",
        "    def __init__(self, num_agents, segment_length, agent_speed, alarm_rate, complexity_mean, complexity_sigma, threshold, simulation_duration):\n",
        "        self.env = simpy.Environment()\n",
        "        # Равномерное распределение агентов вдоль отрезка\n",
        "        self.agents = [Agent(self.env, i * segment_length / (num_agents - 1), agent_speed) for i in range(num_agents)]\n",
        "        self.segment_length = segment_length\n",
        "        self.alarm_rate = alarm_rate\n",
        "        self.complexity_mean = complexity_mean\n",
        "        self.complexity_sigma = complexity_sigma\n",
        "        self.threshold = threshold\n",
        "        self.simulation_duration = simulation_duration\n",
        "        self.alarms = []\n",
        "        self.total_alarms = 0\n",
        "        self.total_response_time = 0\n",
        "        self.delayed_alarms = 0\n",
        "\n",
        "    def generate_alarms(self):\n",
        "        while True:\n",
        "            yield self.env.timeout(random.expovariate(self.alarm_rate))\n",
        "            location = random.uniform(0, self.segment_length)\n",
        "            complexity = np.random.lognormal(self.complexity_mean, self.complexity_sigma)\n",
        "            alarm = Alarm(location, complexity)\n",
        "            self.alarms.append(alarm)\n",
        "            self.total_alarms += 1\n",
        "            self.env.process(self.dispatch_agent(alarm))\n",
        "\n",
        "    def dispatch_agent(self, alarm):\n",
        "        available_agents = [agent for agent in self.agents if agent.state == 'free']\n",
        "        if available_agents:\n",
        "            closest_agent = min(available_agents, key=lambda agent: agent.travel_time(alarm.location))\n",
        "            closest_agent.start_time = self.env.now\n",
        "            self.total_response_time += closest_agent.travel_time(alarm.location)\n",
        "            if closest_agent.travel_time(alarm.location) > self.threshold:\n",
        "                self.delayed_alarms += 1\n",
        "            # Start the agent's alarm handling process and yield it\n",
        "            yield self.env.process(closest_agent.handle_alarm(alarm))\n",
        "\n",
        "\n",
        "    def run(self):\n",
        "        self.env.process(self.generate_alarms())\n",
        "        self.env.run(until=self.simulation_duration)\n",
        "\n",
        "    def report(self):\n",
        "        print(f\"Simulation Duration: {self.simulation_duration}\")\n",
        "        print(f\"Total Alarms: {self.total_alarms}\")\n",
        "        print(f\"Average Response Time: {self.total_response_time / self.total_alarms if self.total_alarms else 0}\")\n",
        "        print(f\"Fraction of Delayed Alarms: {self.delayed_alarms / self.total_alarms if self.total_alarms else 0}\")\n",
        "        for i, agent in enumerate(self.agents):\n",
        "            print(f\"Agent {i} Busy Time Fraction: {agent.busy_time / self.env.now if self.env.now else 0}\")\n"
      ],
      "metadata": {
        "id": "hr0wwjDBGU8N"
      },
      "execution_count": 34,
      "outputs": []
    },
    {
      "cell_type": "code",
      "source": [
        "def visualize(simulation, interval=1):\n",
        "    fig, ax = plt.subplots(figsize=(10, 1))\n",
        "    ax.set_xlim(0, simulation.segment_length)\n",
        "    ax.set_ylim(-1, 1)\n",
        "\n",
        "    while simulation.env.peek() < float('inf'):\n",
        "        ax.clear()\n",
        "        ax.set_xlim(0, simulation.segment_length)\n",
        "        ax.set_ylim(-1, 1)\n",
        "\n",
        "        for agent in simulation.agents:\n",
        "            if agent.state == 'free':\n",
        "                ax.plot(agent.location, 0, 'bo')\n",
        "            elif agent.state == 'busy':\n",
        "                if agent.alarm is not None:\n",
        "                    ax.plot(agent.alarm.location, 0, 'mo')\n",
        "                ax.plot(agent.location, 0, 'go')\n",
        "\n",
        "        for alarm in simulation.alarms:\n",
        "            if alarm.arrival_time is None:\n",
        "                ax.plot(alarm.location, 0, 'ro')\n",
        "\n",
        "        plt.pause(interval)\n",
        "        simulation.env.step()\n",
        "\n",
        "    plt.show()"
      ],
      "metadata": {
        "id": "-DXI0ION2NTl"
      },
      "execution_count": 30,
      "outputs": []
    },
    {
      "cell_type": "code",
      "source": [
        "# Параметры моделирования\n",
        "num_agents = 5\n",
        "segment_length = 100 # как в Сочи 100 км\n",
        "agent_speed = 30/60  # 30 км/ч = 0,5 км в мин\n",
        "alarm_rate = 50/(24*60) # 50 тревог в сутки\n",
        "complexity_mean = 20 # минут на тревоге\n",
        "complexity_sigma = 0.5\n",
        "threshold = 15 # 15 норма - до 15 мин\n",
        "simulation_duration = 24*60  # Задаем время моделирования в минутах - сутки\n",
        "\n",
        "# Создание и запуск симуляции\n",
        "sim = Simulation(num_agents, segment_length, agent_speed, alarm_rate, complexity_mean, complexity_sigma, threshold, simulation_duration)\n",
        "sim.run()\n",
        "\n",
        "# Отчёт о результатах\n",
        "sim.report()\n",
        "\n",
        "# Визуализация процесса\n",
        "#visualize(sim, interval=0.1)\n",
        "\n",
        "\n"
      ],
      "metadata": {
        "colab": {
          "base_uri": "https://localhost:8080/"
        },
        "id": "1YLkFJ5HAqj5",
        "outputId": "a0c422f3-dd85-4411-985f-324a2bd49704"
      },
      "execution_count": 36,
      "outputs": [
        {
          "output_type": "stream",
          "name": "stdout",
          "text": [
            "Simulation Duration: 1440\n",
            "Total Alarms: 54\n",
            "Average Response Time: 2.5063583681415187\n",
            "Fraction of Delayed Alarms: 0.07407407407407407\n",
            "Agent 0 Busy Time Fraction: 0.0\n",
            "Agent 1 Busy Time Fraction: 0.0\n",
            "Agent 2 Busy Time Fraction: 0.0\n",
            "Agent 3 Busy Time Fraction: 0.0\n",
            "Agent 4 Busy Time Fraction: 0.0\n"
          ]
        }
      ]
    },
    {
      "cell_type": "code",
      "source": [],
      "metadata": {
        "id": "CSJohIInIHZk"
      },
      "execution_count": null,
      "outputs": []
    }
  ]
}