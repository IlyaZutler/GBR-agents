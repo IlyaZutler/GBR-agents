{
  "nbformat": 4,
  "nbformat_minor": 0,
  "metadata": {
    "colab": {
      "provenance": [],
      "authorship_tag": "ABX9TyOKnTazGPejc7kI7kJkon5s",
      "include_colab_link": true
    },
    "kernelspec": {
      "name": "python3",
      "display_name": "Python 3"
    },
    "language_info": {
      "name": "python"
    }
  },
  "cells": [
    {
      "cell_type": "markdown",
      "metadata": {
        "id": "view-in-github",
        "colab_type": "text"
      },
      "source": [
        "<a href=\"https://colab.research.google.com/github/IlyaZutler/GBR-agents/blob/main/GBR_Agents_4.ipynb\" target=\"_parent\"><img src=\"https://colab.research.google.com/assets/colab-badge.svg\" alt=\"Open In Colab\"/></a>"
      ]
    },
    {
      "cell_type": "code",
      "source": [
        "import random\n",
        "import numpy as np\n",
        "!pip install simpy\n",
        "import simpy"
      ],
      "metadata": {
        "colab": {
          "base_uri": "https://localhost:8080/"
        },
        "id": "yJdyxvbz0kxT",
        "outputId": "6818d46f-66a8-4f60-a40f-8221867b7826"
      },
      "execution_count": 39,
      "outputs": [
        {
          "output_type": "stream",
          "name": "stdout",
          "text": [
            "Requirement already satisfied: simpy in /usr/local/lib/python3.10/dist-packages (4.1.1)\n"
          ]
        }
      ]
    },
    {
      "cell_type": "code",
      "source": [
        "class Agent:\n",
        "    def __init__(self, env, location, speed):\n",
        "        self.env = env\n",
        "        self.location = location\n",
        "        self.base_location = location  # Место дислокации\n",
        "        self.speed = speed\n",
        "        self.status = 'Free'\n",
        "        self.total_busy_time = 0\n",
        "        self.handled_alarms = 0\n",
        "        self.action = env.process(self.run())\n",
        "\n",
        "    def run(self):\n",
        "        while True:\n",
        "            yield self.env.timeout(1)\n",
        "\n",
        "    def travel_time(self, destination):\n",
        "        return abs(self.location - destination) / self.speed\n",
        "\n",
        "    def travel_to(self, destination):\n",
        "        while abs(self.location - destination) >= self.speed:\n",
        "            if self.location < destination:\n",
        "                self.location = min(self.location + self.speed, destination)\n",
        "            else:\n",
        "                self.location = max(self.location - self.speed, destination)\n",
        "            yield self.env.timeout(1)\n",
        "\n",
        "    def handle_alarm(self, alarm):\n",
        "        self.status = 'Busy'\n",
        "        # Перемещение к тревоге\n",
        "        yield self.env.process(self.travel_to(alarm.location))\n",
        "        # Время на тревоге\n",
        "        yield self.env.timeout(alarm.complexity)\n",
        "        response_time = self.env.now - alarm.time_created\n",
        "        self.total_busy_time += response_time\n",
        "        self.handled_alarms += 1\n",
        "        self.status = 'Free'  # Изменить статус на Free сразу после обработки тревоги\n",
        "        alarm.response_time = response_time\n",
        "\n",
        "        # Возвращение к месту дислокации\n",
        "        yield self.env.process(self.travel_to(self.base_location))\n",
        "\n",
        "        # Удаление тревоги из списка после обработки\n",
        "        if alarm in self.env.simulation.alarms:\n",
        "            self.env.simulation.alarms.remove(alarm)\n",
        "\n",
        "class Alarm:\n",
        "    def __init__(self, env, location, complexity):\n",
        "        self.env = env\n",
        "        self.location = location\n",
        "        self.complexity = complexity\n",
        "        self.time_created = env.now\n",
        "        self.response_time = 0\n",
        "\n",
        "class Simulation:\n",
        "    def __init__(self, num_agents, segment_length, agent_speed, alarm_rate, complexity_mean, complexity_sigma, threshold, simulation_duration):\n",
        "        self.env = simpy.Environment()\n",
        "\n",
        "        self.segment_length = segment_length\n",
        "        self.agents = [\n",
        "            Agent(self.env, location=segment_length / num_agents / 2 + i * (segment_length / num_agents), speed=agent_speed)\n",
        "            for i in range(num_agents)\n",
        "        ]\n",
        "        self.alarm_rate = alarm_rate\n",
        "        self.complexity_mean = complexity_mean\n",
        "        self.complexity_sigma = complexity_sigma\n",
        "        self.threshold = threshold\n",
        "        self.simulation_duration = simulation_duration\n",
        "        self.alarms = []\n",
        "        self.total_alarms = 0\n",
        "        self.total_response_time = 0\n",
        "        self.delayed_alarms = 0\n",
        "        self.results = {'total_alarms': 0, 'average_response_time': 0, 'alarms_above_threshold': 0, 'busy_agents': []}\n",
        "\n",
        "    def generate_alarms(self):\n",
        "        while True:\n",
        "            yield self.env.timeout(random.expovariate(self.alarm_rate))\n",
        "            location = random.uniform(0, self.segment_length)\n",
        "            complexity = np.random.lognormal(mean=self.complexity_mean, sigma=self.complexity_sigma)\n",
        "            alarm = Alarm(self.env, location, complexity)\n",
        "            self.alarms.append(alarm)\n",
        "            self.dispatch_agent(alarm)\n",
        "\n",
        "    def dispatch_agent(self, alarm):\n",
        "        free_agents = [agent for agent in self.agents if agent.status == 'Free']\n",
        "        if free_agents:\n",
        "            nearest_agent = min(free_agents, key=lambda agent: agent.travel_time(alarm.location))\n",
        "            self.env.process(nearest_agent.handle_alarm(alarm))\n",
        "        else:\n",
        "            print(f\"No available agents at time {self.env.now}\")\n",
        "\n",
        "    def monitor(self):\n",
        "        while True:\n",
        "            yield self.env.timeout(1)\n",
        "            busy_agents = sum(agent.status == 'Busy' for agent in self.agents)\n",
        "            self.results['busy_agents'].append(busy_agents / len(self.agents))\n",
        "\n",
        "    def report(self):\n",
        "        self.total_alarms = len(self.alarms)\n",
        "        self.total_response_time = sum(alarm.response_time for alarm in self.alarms)\n",
        "        self.delayed_alarms = sum(1 for alarm in self.alarms if alarm.response_time > self.threshold)\n",
        "        average_response_time = self.total_response_time / self.total_alarms if self.total_alarms > 0 else 0\n",
        "        average_busy_agents = np.mean(self.results['busy_agents']) if self.results['busy_agents'] else 0\n",
        "        average_delay_ratio = self.delayed_alarms / self.total_alarms if self.total_alarms > 0 else 0\n",
        "\n",
        "        print(\"Total alarms:\", self.total_alarms)\n",
        "        print(\"Average response time:\", average_response_time)\n",
        "        print(\"Alarms above threshold:\", self.delayed_alarms)\n",
        "        print(\"Average delay ratio:\", average_delay_ratio)\n",
        "        print(\"Busy agents over time:\", average_busy_agents)\n",
        "        for i, agent in enumerate(self.agents):\n",
        "            print(f\"Agent {i} handled {agent.handled_alarms} alarms, busy time: {agent.total_busy_time}\")\n",
        "\n",
        "    def run(self):\n",
        "        self.env.process(self.generate_alarms())\n",
        "        self.env.process(self.monitor())\n",
        "        self.env.run(until=self.simulation_duration)\n",
        "        self.report()\n",
        "\n",
        "if __name__ == \"__main__\":\n",
        "    # Настраиваемые параметры\n",
        "    num_agents = 10\n",
        "    segment_length = 1.0\n",
        "    agent_speed = 0.1\n",
        "    alarm_rate = 1 / 10  # Средний интервал между тревогами\n",
        "    complexity_mean = 0\n",
        "    complexity_sigma = 1\n",
        "    threshold = 5\n",
        "    simulation_duration = 100  # Время моделирования\n",
        "\n",
        "    random.seed(42)\n",
        "    np.random.seed(42)\n",
        "\n",
        "    simulation = Simulation(num_agents, segment_length, agent_speed, alarm_rate, complexity_mean, complexity_sigma, threshold, simulation_duration)\n",
        "    simulation.run()\n"
      ],
      "metadata": {
        "colab": {
          "base_uri": "https://localhost:8080/",
          "height": 408
        },
        "id": "1MFfjpjR8oN_",
        "outputId": "e0bff393-2f74-403e-d265-533d43888909"
      },
      "execution_count": 40,
      "outputs": [
        {
          "output_type": "error",
          "ename": "AttributeError",
          "evalue": "'Environment' object has no attribute 'simulation'",
          "traceback": [
            "\u001b[0;31m---------------------------------------------------------------------------\u001b[0m",
            "\u001b[0;31mAttributeError\u001b[0m                            Traceback (most recent call last)",
            "\u001b[0;32m<ipython-input-40-8f05c685f4f3>\u001b[0m in \u001b[0;36mhandle_alarm\u001b[0;34m(self, alarm)\u001b[0m\n\u001b[1;32m     42\u001b[0m         \u001b[0;31m# Удаление тревоги из списка после обработки\u001b[0m\u001b[0;34m\u001b[0m\u001b[0;34m\u001b[0m\u001b[0m\n\u001b[0;32m---> 43\u001b[0;31m         \u001b[0;32mif\u001b[0m \u001b[0malarm\u001b[0m \u001b[0;32min\u001b[0m \u001b[0mself\u001b[0m\u001b[0;34m.\u001b[0m\u001b[0menv\u001b[0m\u001b[0;34m.\u001b[0m\u001b[0msimulation\u001b[0m\u001b[0;34m.\u001b[0m\u001b[0malarms\u001b[0m\u001b[0;34m:\u001b[0m\u001b[0;34m\u001b[0m\u001b[0;34m\u001b[0m\u001b[0m\n\u001b[0m\u001b[1;32m     44\u001b[0m             \u001b[0mself\u001b[0m\u001b[0;34m.\u001b[0m\u001b[0menv\u001b[0m\u001b[0;34m.\u001b[0m\u001b[0msimulation\u001b[0m\u001b[0;34m.\u001b[0m\u001b[0malarms\u001b[0m\u001b[0;34m.\u001b[0m\u001b[0mremove\u001b[0m\u001b[0;34m(\u001b[0m\u001b[0malarm\u001b[0m\u001b[0;34m)\u001b[0m\u001b[0;34m\u001b[0m\u001b[0;34m\u001b[0m\u001b[0m\n",
            "\u001b[0;31mAttributeError\u001b[0m: 'Environment' object has no attribute 'simulation'",
            "\nThe above exception was the direct cause of the following exception:\n",
            "\u001b[0;31mAttributeError\u001b[0m                            Traceback (most recent call last)",
            "\u001b[0;32m<ipython-input-40-8f05c685f4f3>\u001b[0m in \u001b[0;36m<cell line: 118>\u001b[0;34m()\u001b[0m\n\u001b[1;32m    131\u001b[0m \u001b[0;34m\u001b[0m\u001b[0m\n\u001b[1;32m    132\u001b[0m     \u001b[0msimulation\u001b[0m \u001b[0;34m=\u001b[0m \u001b[0mSimulation\u001b[0m\u001b[0;34m(\u001b[0m\u001b[0mnum_agents\u001b[0m\u001b[0;34m,\u001b[0m \u001b[0msegment_length\u001b[0m\u001b[0;34m,\u001b[0m \u001b[0magent_speed\u001b[0m\u001b[0;34m,\u001b[0m \u001b[0malarm_rate\u001b[0m\u001b[0;34m,\u001b[0m \u001b[0mcomplexity_mean\u001b[0m\u001b[0;34m,\u001b[0m \u001b[0mcomplexity_sigma\u001b[0m\u001b[0;34m,\u001b[0m \u001b[0mthreshold\u001b[0m\u001b[0;34m,\u001b[0m \u001b[0msimulation_duration\u001b[0m\u001b[0;34m)\u001b[0m\u001b[0;34m\u001b[0m\u001b[0;34m\u001b[0m\u001b[0m\n\u001b[0;32m--> 133\u001b[0;31m     \u001b[0msimulation\u001b[0m\u001b[0;34m.\u001b[0m\u001b[0mrun\u001b[0m\u001b[0;34m(\u001b[0m\u001b[0;34m)\u001b[0m\u001b[0;34m\u001b[0m\u001b[0;34m\u001b[0m\u001b[0m\n\u001b[0m",
            "\u001b[0;32m<ipython-input-40-8f05c685f4f3>\u001b[0m in \u001b[0;36mrun\u001b[0;34m(self)\u001b[0m\n\u001b[1;32m    113\u001b[0m         \u001b[0mself\u001b[0m\u001b[0;34m.\u001b[0m\u001b[0menv\u001b[0m\u001b[0;34m.\u001b[0m\u001b[0mprocess\u001b[0m\u001b[0;34m(\u001b[0m\u001b[0mself\u001b[0m\u001b[0;34m.\u001b[0m\u001b[0mgenerate_alarms\u001b[0m\u001b[0;34m(\u001b[0m\u001b[0;34m)\u001b[0m\u001b[0;34m)\u001b[0m\u001b[0;34m\u001b[0m\u001b[0;34m\u001b[0m\u001b[0m\n\u001b[1;32m    114\u001b[0m         \u001b[0mself\u001b[0m\u001b[0;34m.\u001b[0m\u001b[0menv\u001b[0m\u001b[0;34m.\u001b[0m\u001b[0mprocess\u001b[0m\u001b[0;34m(\u001b[0m\u001b[0mself\u001b[0m\u001b[0;34m.\u001b[0m\u001b[0mmonitor\u001b[0m\u001b[0;34m(\u001b[0m\u001b[0;34m)\u001b[0m\u001b[0;34m)\u001b[0m\u001b[0;34m\u001b[0m\u001b[0;34m\u001b[0m\u001b[0m\n\u001b[0;32m--> 115\u001b[0;31m         \u001b[0mself\u001b[0m\u001b[0;34m.\u001b[0m\u001b[0menv\u001b[0m\u001b[0;34m.\u001b[0m\u001b[0mrun\u001b[0m\u001b[0;34m(\u001b[0m\u001b[0muntil\u001b[0m\u001b[0;34m=\u001b[0m\u001b[0mself\u001b[0m\u001b[0;34m.\u001b[0m\u001b[0msimulation_duration\u001b[0m\u001b[0;34m)\u001b[0m\u001b[0;34m\u001b[0m\u001b[0;34m\u001b[0m\u001b[0m\n\u001b[0m\u001b[1;32m    116\u001b[0m         \u001b[0mself\u001b[0m\u001b[0;34m.\u001b[0m\u001b[0mreport\u001b[0m\u001b[0;34m(\u001b[0m\u001b[0;34m)\u001b[0m\u001b[0;34m\u001b[0m\u001b[0;34m\u001b[0m\u001b[0m\n\u001b[1;32m    117\u001b[0m \u001b[0;34m\u001b[0m\u001b[0m\n",
            "\u001b[0;32m/usr/local/lib/python3.10/dist-packages/simpy/core.py\u001b[0m in \u001b[0;36mrun\u001b[0;34m(self, until)\u001b[0m\n\u001b[1;32m    244\u001b[0m         \u001b[0;32mtry\u001b[0m\u001b[0;34m:\u001b[0m\u001b[0;34m\u001b[0m\u001b[0;34m\u001b[0m\u001b[0m\n\u001b[1;32m    245\u001b[0m             \u001b[0;32mwhile\u001b[0m \u001b[0;32mTrue\u001b[0m\u001b[0;34m:\u001b[0m\u001b[0;34m\u001b[0m\u001b[0;34m\u001b[0m\u001b[0m\n\u001b[0;32m--> 246\u001b[0;31m                 \u001b[0mself\u001b[0m\u001b[0;34m.\u001b[0m\u001b[0mstep\u001b[0m\u001b[0;34m(\u001b[0m\u001b[0;34m)\u001b[0m\u001b[0;34m\u001b[0m\u001b[0;34m\u001b[0m\u001b[0m\n\u001b[0m\u001b[1;32m    247\u001b[0m         \u001b[0;32mexcept\u001b[0m \u001b[0mStopSimulation\u001b[0m \u001b[0;32mas\u001b[0m \u001b[0mexc\u001b[0m\u001b[0;34m:\u001b[0m\u001b[0;34m\u001b[0m\u001b[0;34m\u001b[0m\u001b[0m\n\u001b[1;32m    248\u001b[0m             \u001b[0;32mreturn\u001b[0m \u001b[0mexc\u001b[0m\u001b[0;34m.\u001b[0m\u001b[0margs\u001b[0m\u001b[0;34m[\u001b[0m\u001b[0;36m0\u001b[0m\u001b[0;34m]\u001b[0m  \u001b[0;31m# == until.value\u001b[0m\u001b[0;34m\u001b[0m\u001b[0;34m\u001b[0m\u001b[0m\n",
            "\u001b[0;32m/usr/local/lib/python3.10/dist-packages/simpy/core.py\u001b[0m in \u001b[0;36mstep\u001b[0;34m(self)\u001b[0m\n\u001b[1;32m    202\u001b[0m             \u001b[0mexc\u001b[0m \u001b[0;34m=\u001b[0m \u001b[0mtype\u001b[0m\u001b[0;34m(\u001b[0m\u001b[0mevent\u001b[0m\u001b[0;34m.\u001b[0m\u001b[0m_value\u001b[0m\u001b[0;34m)\u001b[0m\u001b[0;34m(\u001b[0m\u001b[0;34m*\u001b[0m\u001b[0mevent\u001b[0m\u001b[0;34m.\u001b[0m\u001b[0m_value\u001b[0m\u001b[0;34m.\u001b[0m\u001b[0margs\u001b[0m\u001b[0;34m)\u001b[0m\u001b[0;34m\u001b[0m\u001b[0;34m\u001b[0m\u001b[0m\n\u001b[1;32m    203\u001b[0m             \u001b[0mexc\u001b[0m\u001b[0;34m.\u001b[0m\u001b[0m__cause__\u001b[0m \u001b[0;34m=\u001b[0m \u001b[0mevent\u001b[0m\u001b[0;34m.\u001b[0m\u001b[0m_value\u001b[0m\u001b[0;34m\u001b[0m\u001b[0;34m\u001b[0m\u001b[0m\n\u001b[0;32m--> 204\u001b[0;31m             \u001b[0;32mraise\u001b[0m \u001b[0mexc\u001b[0m\u001b[0;34m\u001b[0m\u001b[0;34m\u001b[0m\u001b[0m\n\u001b[0m\u001b[1;32m    205\u001b[0m \u001b[0;34m\u001b[0m\u001b[0m\n\u001b[1;32m    206\u001b[0m     \u001b[0;32mdef\u001b[0m \u001b[0mrun\u001b[0m\u001b[0;34m(\u001b[0m\u001b[0mself\u001b[0m\u001b[0;34m,\u001b[0m \u001b[0muntil\u001b[0m\u001b[0;34m:\u001b[0m \u001b[0mOptional\u001b[0m\u001b[0;34m[\u001b[0m\u001b[0mUnion\u001b[0m\u001b[0;34m[\u001b[0m\u001b[0mSimTime\u001b[0m\u001b[0;34m,\u001b[0m \u001b[0mEvent\u001b[0m\u001b[0;34m]\u001b[0m\u001b[0;34m]\u001b[0m \u001b[0;34m=\u001b[0m \u001b[0;32mNone\u001b[0m\u001b[0;34m)\u001b[0m \u001b[0;34m->\u001b[0m \u001b[0mOptional\u001b[0m\u001b[0;34m[\u001b[0m\u001b[0mAny\u001b[0m\u001b[0;34m]\u001b[0m\u001b[0;34m:\u001b[0m\u001b[0;34m\u001b[0m\u001b[0;34m\u001b[0m\u001b[0m\n",
            "\u001b[0;31mAttributeError\u001b[0m: 'Environment' object has no attribute 'simulation'"
          ]
        }
      ]
    }
  ]
}