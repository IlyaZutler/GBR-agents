{
  "nbformat": 4,
  "nbformat_minor": 0,
  "metadata": {
    "colab": {
      "provenance": [],
      "authorship_tag": "ABX9TyO9k3/ItMiULhT1fUSLBB7H",
      "include_colab_link": true
    },
    "kernelspec": {
      "name": "python3",
      "display_name": "Python 3"
    },
    "language_info": {
      "name": "python"
    }
  },
  "cells": [
    {
      "cell_type": "markdown",
      "metadata": {
        "id": "view-in-github",
        "colab_type": "text"
      },
      "source": [
        "<a href=\"https://colab.research.google.com/github/IlyaZutler/GBR-agents/blob/main/GBR_Agent3.ipynb\" target=\"_parent\"><img src=\"https://colab.research.google.com/assets/colab-badge.svg\" alt=\"Open In Colab\"/></a>"
      ]
    },
    {
      "cell_type": "code",
      "execution_count": null,
      "metadata": {
        "id": "fL9t996bwuZ8"
      },
      "outputs": [],
      "source": [
        "import random\n",
        "import numpy as np\n",
        "import simpy\n",
        "\n",
        "class Agent:\n",
        "    def __init__(self, env, location, speed):\n",
        "        self.env = env\n",
        "        self.location = location\n",
        "        self.speed = speed\n",
        "        self.status = 'Free'\n",
        "        self.total_busy_time = 0\n",
        "        self.handled_alarms = 0\n",
        "        self.action = env.process(self.run())\n",
        "\n",
        "    def run(self):\n",
        "        while True:\n",
        "            # Wait for an alarm\n",
        "            yield self.env.timeout(1)\n",
        "            self.status = 'Free'\n",
        "\n",
        "    def travel_time(self, alarm_location):\n",
        "        return abs(self.location - alarm_location) / self.speed\n",
        "\n",
        "    def handle_alarm(self, alarm):\n",
        "        self.status = 'Busy'\n",
        "        travel_time = self.travel_time(alarm.location)\n",
        "        yield self.env.timeout(travel_time)\n",
        "        yield self.env.timeout(alarm.complexity)\n",
        "        self.total_busy_time += travel_time + alarm.complexity\n",
        "        self.handled_alarms += 1\n",
        "        self.location = alarm.location\n",
        "\n",
        "class Alarm:\n",
        "    def __init__(self, env, location, complexity):\n",
        "        self.env = env\n",
        "        self.location = location\n",
        "        self.complexity = complexity\n",
        "\n",
        "def generate_alarms(env, agents, interval, threshold):\n",
        "    while True:\n",
        "        yield env.timeout(random.expovariate(1.0 / interval))\n",
        "        location = random.uniform(0, 1)\n",
        "        complexity = np.random.lognormal(mean=0, sigma=1)\n",
        "        alarm = Alarm(env, location, complexity)\n",
        "\n",
        "        # Find the nearest free agent\n",
        "        free_agents = [agent for agent in agents if agent.status == 'Free']\n",
        "        if free_agents:\n",
        "            nearest_agent = min(free_agents, key=lambda agent: agent.travel_time(alarm.location))\n",
        "            env.process(nearest_agent.handle_alarm(alarm))\n",
        "        else:\n",
        "            print(f\"No available agents at time {env.now}\")\n",
        "\n",
        "def monitor(env, agents, threshold, results):\n",
        "    while True:\n",
        "        yield env.timeout(1)\n",
        "        busy_agents = sum(agent.status == 'Busy' for agent in agents)\n",
        "        results['busy_agents'].append(busy_agents / len(agents))\n",
        "\n",
        "if __name__ == \"__main__\":\n",
        "    random.seed(42)\n",
        "    np.random.seed(42)\n",
        "\n",
        "    env = simpy.Environment()\n",
        "    agents = [Agent(env, location=i/10, speed=1) for i in range(10)]\n",
        "    interval = 10  # mean interval between alarms\n",
        "    threshold = 5  # threshold time\n",
        "\n",
        "    results = {'total_alarms': 0, 'average_response_time': 0, 'alarms_above_threshold': 0, 'busy_agents': []}\n",
        "\n",
        "    env.process(generate_alarms(env, agents, interval, threshold))\n",
        "    env.process(monitor(env, agents, threshold, results))\n",
        "\n",
        "    env.run(until=100)\n",
        "\n",
        "    # Calculate final results\n",
        "    results['total_alarms'] = sum(agent.handled_alarms for agent in agents)\n",
        "    total_response_time = sum(agent.total_busy_time for agent in agents)\n",
        "    results['average_response_time'] = total_response_time / results['total_alarms']\n",
        "    results['alarms_above_threshold'] = sum(1 for agent in agents for _ in range(agent.handled_alarms) if agent.total_busy_time / agent.handled_alarms > threshold)\n",
        "\n",
        "    print(\"Total alarms:\", results['total_alarms'])\n",
        "    print(\"Average response time:\", results['average_response_time'])\n",
        "    print(\"Alarms above threshold:\", results['alarms_above_threshold'])\n",
        "    print(\"Busy agents over time:\", np.mean(results['busy_agents']))\n",
        "    for i, agent in enumerate(agents):\n",
        "        print(f\"Agent {i} handled {agent.handled_alarms} alarms, busy time: {agent.total_busy_time}\")\n",
        "\n"
      ]
    }
  ]
}