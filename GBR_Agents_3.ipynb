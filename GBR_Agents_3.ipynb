{
  "nbformat": 4,
  "nbformat_minor": 0,
  "metadata": {
    "colab": {
      "provenance": [],
      "authorship_tag": "ABX9TyOUmMz+QD2FbbjidzGuHm/R",
      "include_colab_link": true
    },
    "kernelspec": {
      "name": "python3",
      "display_name": "Python 3"
    },
    "language_info": {
      "name": "python"
    }
  },
  "cells": [
    {
      "cell_type": "markdown",
      "metadata": {
        "id": "view-in-github",
        "colab_type": "text"
      },
      "source": [
        "<a href=\"https://colab.research.google.com/github/IlyaZutler/GBR-agents/blob/main/GBR_Agents_3.ipynb\" target=\"_parent\"><img src=\"https://colab.research.google.com/assets/colab-badge.svg\" alt=\"Open In Colab\"/></a>"
      ]
    },
    {
      "cell_type": "code",
      "source": [
        "import random\n",
        "import numpy as np\n",
        "!pip install simpy\n",
        "import simpy"
      ],
      "metadata": {
        "colab": {
          "base_uri": "https://localhost:8080/"
        },
        "id": "yJdyxvbz0kxT",
        "outputId": "ee76155d-10b5-44c9-fa56-313084defeab"
      },
      "execution_count": 2,
      "outputs": [
        {
          "output_type": "stream",
          "name": "stdout",
          "text": [
            "Collecting simpy\n",
            "  Downloading simpy-4.1.1-py3-none-any.whl (27 kB)\n",
            "Installing collected packages: simpy\n",
            "Successfully installed simpy-4.1.1\n"
          ]
        }
      ]
    },
    {
      "cell_type": "code",
      "source": [
        "import random\n",
        "import numpy as np\n",
        "import simpy\n",
        "\n",
        "class Agent:\n",
        "    def __init__(self, env, location, speed):\n",
        "        self.env = env\n",
        "        self.location = location\n",
        "        self.base_location = location  # Место дислокации\n",
        "        self.speed = speed\n",
        "        self.status = 'Free'\n",
        "        self.total_busy_time = 0\n",
        "        self.handled_alarms = 0\n",
        "        self.action = env.process(self.run())\n",
        "\n",
        "    def run(self):\n",
        "        while True:\n",
        "            yield self.env.timeout(1)\n",
        "\n",
        "    def travel_time(self, destination):\n",
        "        return abs(self.location - destination) / self.speed\n",
        "\n",
        "    def travel_to(self, destination):  #\n",
        "        while self.location != destination:\n",
        "            if self.location < destination:\n",
        "                self.location = min(self.location + self.speed, destination)\n",
        "            else:\n",
        "                self.location = max(self.location - self.speed, destination)\n",
        "            yield self.env.timeout(1)\n",
        "\n",
        "    def handle_alarm(self, alarm):\n",
        "        self.status = 'Busy'\n",
        "        # Перемещение к тревоге\n",
        "        yield self.env.process(self.travel_to(alarm.location))\n",
        "        # Время на тревоге\n",
        "        yield self.env.timeout(alarm.complexity)\n",
        "        self.total_busy_time += self.env.now - alarm.time_created\n",
        "        self.handled_alarms += 1\n",
        "        self.status = 'Free'  # Изменить статус на Free сразу после обработки тревоги\n",
        "\n",
        "        # Возвращение к месту дислокации\n",
        "        yield self.env.process(self.travel_to(self.base_location))\n",
        "\n",
        "class Alarm:\n",
        "    def __init__(self, env, location, complexity):\n",
        "        self.env = env\n",
        "        self.location = location\n",
        "        self.complexity = complexity\n",
        "        self.time_created = env.now\n",
        "\n",
        "class Simulation:\n",
        "    def __init__(self, num_agents, segment_length, agent_speed, alarm_rate, complexity_mean, complexity_sigma, threshold):\n",
        "        self.env = simpy.Environment()\n",
        "        self.segment_length = segment_length\n",
        "        self.agents = [Agent(self.env, location=i * (segment_length / num_agents), speed=agent_speed) for i in range(num_agents)]\n",
        "        self.alarm_rate = alarm_rate\n",
        "        self.complexity_mean = complexity_mean\n",
        "        self.complexity_sigma = complexity_sigma\n",
        "        self.threshold = threshold\n",
        "        self.results = {'total_alarms': 0, 'average_response_time': 0, 'alarms_above_threshold': 0, 'busy_agents': []}\n",
        "\n",
        "    def generate_alarms(self):\n",
        "        while True:\n",
        "            yield self.env.timeout(random.expovariate(self.alarm_rate))\n",
        "            location = random.uniform(0, self.segment_length)\n",
        "            complexity = np.random.lognormal(mean=self.complexity_mean, sigma=self.complexity_sigma)\n",
        "            alarm = Alarm(self.env, location, complexity)\n",
        "            self.dispatch_agent(alarm)\n",
        "\n",
        "    def dispatch_agent(self, alarm):\n",
        "        free_agents = [agent for agent in self.agents if agent.status == 'Free']\n",
        "        if free_agents:\n",
        "            nearest_agent = min(free_agents, key=lambda agent: agent.travel_time(alarm.location))\n",
        "            self.env.process(nearest_agent.handle_alarm(alarm))\n",
        "        else:\n",
        "            print(f\"No available agents at time {self.env.now}\")\n",
        "\n",
        "    def monitor(self):\n",
        "        while True:\n",
        "            yield self.env.timeout(1)\n",
        "            busy_agents = sum(agent.status == 'Busy' for agent in self.agents)\n",
        "            self.results['busy_agents'].append(busy_agents / len(self.agents))\n",
        "\n",
        "    def report(self):\n",
        "        self.results['total_alarms'] = sum(agent.handled_alarms for agent in self.agents)\n",
        "        total_response_time = sum(agent.total_busy_time for agent in self.agents)\n",
        "        self.results['average_response_time'] = total_response_time / self.results['total_alarms'] if self.results['total_alarms'] > 0 else 0\n",
        "        self.results['alarms_above_threshold'] = sum(\n",
        "            1 for agent in self.agents for _ in range(agent.handled_alarms)\n",
        "            if agent.total_busy_time / agent.handled_alarms > self.threshold\n",
        "        )\n",
        "\n",
        "        print(\"Total alarms:\", self.results['total_alarms'])\n",
        "        print(\"Average response time:\", self.results['average_response_time'])\n",
        "        print(\"Alarms above threshold:\", self.results['alarms_above_threshold'])\n",
        "        print(\"Busy agents over time:\", np.mean(self.results['busy_agents']))\n",
        "        for i, agent in enumerate(self.agents):\n",
        "            print(f\"Agent {i} handled {agent.handled_alarms} alarms, busy time: {agent.total_busy_time}\")\n",
        "\n",
        "    def run(self, until=100):\n",
        "        self.env.process(self.generate_alarms())\n",
        "        self.env.process(self.monitor())\n",
        "        self.env.run(until=until)\n",
        "        self.report()\n",
        "\n",
        "if __name__ == \"__main__\":\n",
        "    # Настраиваемые параметры\n",
        "    num_agents = 10\n",
        "    segment_length = 1.0\n",
        "    agent_speed = 0.1\n",
        "    alarm_rate = 1 / 10  # Средний интервал между тревогами\n",
        "    complexity_mean = 0\n",
        "    complexity_sigma = 1\n",
        "    threshold = 5\n",
        "\n",
        "    random.seed(42)\n",
        "    np.random.seed(42)\n",
        "\n",
        "    simulation = Simulation(num_agents, segment_length, agent_speed, alarm_rate, complexity_mean, complexity_sigma, threshold)\n",
        "    simulation.run(until=100)\n"
      ],
      "metadata": {
        "id": "K8YVJXpNvSgK"
      },
      "execution_count": null,
      "outputs": []
    }
  ]
}