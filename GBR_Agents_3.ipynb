{
  "nbformat": 4,
  "nbformat_minor": 0,
  "metadata": {
    "colab": {
      "provenance": [],
      "authorship_tag": "ABX9TyPevQSAPPkvUjXg+y4g/J5R",
      "include_colab_link": true
    },
    "kernelspec": {
      "name": "python3",
      "display_name": "Python 3"
    },
    "language_info": {
      "name": "python"
    }
  },
  "cells": [
    {
      "cell_type": "markdown",
      "metadata": {
        "id": "view-in-github",
        "colab_type": "text"
      },
      "source": [
        "<a href=\"https://colab.research.google.com/github/IlyaZutler/GBR-agents/blob/main/GBR_Agents_3.ipynb\" target=\"_parent\"><img src=\"https://colab.research.google.com/assets/colab-badge.svg\" alt=\"Open In Colab\"/></a>"
      ]
    },
    {
      "cell_type": "code",
      "source": [
        "import random\n",
        "import numpy as np\n",
        "!pip install simpy\n",
        "import simpy"
      ],
      "metadata": {
        "colab": {
          "base_uri": "https://localhost:8080/"
        },
        "id": "yJdyxvbz0kxT",
        "outputId": "ee76155d-10b5-44c9-fa56-313084defeab"
      },
      "execution_count": 2,
      "outputs": [
        {
          "output_type": "stream",
          "name": "stdout",
          "text": [
            "Collecting simpy\n",
            "  Downloading simpy-4.1.1-py3-none-any.whl (27 kB)\n",
            "Installing collected packages: simpy\n",
            "Successfully installed simpy-4.1.1\n"
          ]
        }
      ]
    },
    {
      "cell_type": "code",
      "source": [
        "import random\n",
        "import numpy as np\n",
        "import simpy\n",
        "\n",
        "class Agent:\n",
        "    def __init__(self, env, location, speed):\n",
        "        self.env = env\n",
        "        self.location = location\n",
        "        self.base_location = location  # Место дислокации\n",
        "        self.speed = speed\n",
        "        self.status = 'Free'\n",
        "        self.total_busy_time = 0\n",
        "        self.handled_alarms = 0\n",
        "        self.action = env.process(self.run())\n",
        "\n",
        "    def run(self):\n",
        "        while True:\n",
        "            if self.status == 'Busy':\n",
        "                yield self.env.timeout(1)\n",
        "            else:\n",
        "                yield self.env.timeout(1)\n",
        "                self.status = 'Free'\n",
        "\n",
        "    def travel_time(self, destination):\n",
        "        return abs(self.location - destination) / self.speed\n",
        "\n",
        "    def travel_to(self, destination):\n",
        "        distance = abs(self.location - destination)\n",
        "        travel_time = distance / self.speed\n",
        "        while self.location != destination:\n",
        "            if self.location < destination:\n",
        "                self.location = min(self.location + self.speed, destination)\n",
        "            else:\n",
        "                self.location = max(self.location - self.speed, destination)\n",
        "            yield self.env.timeout(1)\n",
        "\n",
        "    def handle_alarm(self, alarm):\n",
        "        self.status = 'Busy'\n",
        "        # Перемещение к тревоге\n",
        "        yield self.env.process(self.travel_to(alarm.location))\n",
        "        # Время на тревоге\n",
        "        yield self.env.timeout(alarm.complexity)\n",
        "        self.total_busy_time += self.env.now - alarm.time_created\n",
        "        self.handled_alarms += 1\n",
        "        self.status = 'Free'  # Изменить статус на Free сразу после обработки тревоги\n",
        "\n",
        "        # Возвращение к месту дислокации\n",
        "        yield self.env.process(self.travel_to(self.base_location))\n",
        "\n",
        "class Alarm:\n",
        "    def __init__(self, env, location, complexity):\n",
        "        self.env = env\n",
        "        self.location = location\n",
        "        self.complexity = complexity\n",
        "        self.time_created = env.now\n",
        "\n",
        "def generate_alarms(env, agents, interval):\n",
        "    while True:\n",
        "        yield env.timeout(random.expovariate(1.0 / interval))\n",
        "        location = random.uniform(0, 1)\n",
        "        complexity = np.random.lognormal(mean=0, sigma=1)\n",
        "        alarm = Alarm(env, location, complexity)\n",
        "\n",
        "        # Найти ближайшего свободного агента\n",
        "        free_agents = [agent for agent in agents if agent.status == 'Free']\n",
        "        if free_agents:\n",
        "            nearest_agent = min(free_agents, key=lambda agent: agent.travel_time(alarm.location))\n",
        "            env.process(nearest_agent.handle_alarm(alarm))\n",
        "        else:\n",
        "            print(f\"No available agents at time {env.now}\")\n",
        "\n",
        "def monitor(env, agents, results):\n",
        "    while True:\n",
        "        yield env.timeout(1)\n",
        "        busy_agents = sum(agent.status == 'Busy' for agent in agents)\n",
        "        results['busy_agents'].append(busy_agents / len(agents))\n",
        "\n",
        "if __name__ == \"__main__\":\n",
        "    random.seed(42)\n",
        "    np.random.seed(42)\n",
        "\n",
        "    env = simpy.Environment()\n",
        "    agents = [Agent(env, location=i/10, speed=0.1) for i in range(10)]\n",
        "    interval = 10  # Средний интервал между тревогами\n",
        "\n",
        "    results = {'total_alarms': 0, 'average_response_time': 0, 'alarms_above_threshold': 0, 'busy_agents': []}\n",
        "\n",
        "    env.process(generate_alarms(env, agents, interval))\n",
        "    env.process(monitor(env, agents, results))\n",
        "\n",
        "    env.run(until=100)\n",
        "\n",
        "    # Подсчет итоговых результатов\n",
        "    results['total_alarms'] = sum(agent.handled_alarms for agent in agents)\n",
        "    total_response_time = sum(agent.total_busy_time for agent in agents)\n",
        "    results['average_response_time'] = total_response_time / results['total_alarms'] if results['total_alarms'] > 0 else 0\n",
        "    threshold = 5\n",
        "    results['alarms_above_threshold'] = sum(\n",
        "        1 for agent in agents for _ in range(agent.handled_alarms)\n",
        "        if agent.total_busy_time / agent.handled_alarms > threshold\n",
        "    )\n",
        "\n",
        "    print(\"Total alarms:\", results['total_alarms'])\n",
        "    print(\"Average response time:\", results['average_response_time'])\n",
        "    print(\"Alarms above threshold:\", results['alarms_above_threshold'])\n",
        "    print(\"Busy agents over time:\", np.mean(results['busy_agents']))\n",
        "    for i, agent in enumerate(agents):\n",
        "        print(f\"Agent {i} handled {agent.handled_alarms} alarms, busy time: {agent.total_busy_time}\")\n"
      ],
      "metadata": {
        "colab": {
          "base_uri": "https://localhost:8080/"
        },
        "id": "qGxswUmyse-Q",
        "outputId": "e49f503e-1a2d-42c8-f03b-d59c0e068631"
      },
      "execution_count": 5,
      "outputs": [
        {
          "output_type": "stream",
          "name": "stdout",
          "text": [
            "Total alarms: 10\n",
            "Average response time: 2.994499767276337\n",
            "Alarms above threshold: 1\n",
            "Busy agents over time: 0.0\n",
            "Agent 0 handled 3 alarms, busy time: 7.154958708439709\n",
            "Agent 1 handled 1 alarms, busy time: 5.586099388741999\n",
            "Agent 2 handled 2 alarms, busy time: 7.722004058889494\n",
            "Agent 3 handled 0 alarms, busy time: 0\n",
            "Agent 4 handled 0 alarms, busy time: 0\n",
            "Agent 5 handled 2 alarms, busy time: 4.94548640941661\n",
            "Agent 6 handled 1 alarms, busy time: 1.6253308646154636\n",
            "Agent 7 handled 1 alarms, busy time: 2.9111182426600912\n",
            "Agent 8 handled 0 alarms, busy time: 0\n",
            "Agent 9 handled 0 alarms, busy time: 0\n"
          ]
        }
      ]
    }
  ]
}